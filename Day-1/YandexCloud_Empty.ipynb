{
 "cells": [
  {
   "cell_type": "markdown",
   "id": "b694aac1-3db3-42a0-907b-d2df7295809d",
   "metadata": {},
   "source": [
    "## Yandex Cloud\n",
    "\n",
    "Облако Yandex Cloud содержит множество сервисов для выполнения базовых операций. Ниже мы приведём несколько \"строительных блоков\" в виде кусочков кода на Python, которые вы сможете использовать в своих проектах, например:\n",
    "\n",
    "* Распознавание текста на картинке\n",
    "* Рисование картинки по текстовому запросу с Yandex ART\n",
    "* Работа с языковыми моделями в облаке, чтобы переделать текст:\n",
    "   - сделать его более вежливым\n",
    "   - получить краткое содержание текста\n",
    "   - перевести его на другой язык\n",
    "   - проверить работу студента\n",
    "* распознать звук (речь) в текст\n",
    "* синтезировать речь\n",
    "\n",
    "Для начала получим файл с секретными ключами для доступа в облако (ключи будут доступны на время интенсива и работы над проектами):"
   ]
  },
  {
   "cell_type": "code",
   "execution_count": null,
   "id": "39885c1e",
   "metadata": {},
   "outputs": [],
   "source": [
    "!wget https://storage.yandexcloud.net/ycpub/keys/.env"
   ]
  },
  {
   "cell_type": "markdown",
   "id": "29427c4f",
   "metadata": {},
   "source": [
    "Также скачаем ещё полезные файлы, который нам пригодятся дальше по ходу демонстрации:"
   ]
  },
  {
   "cell_type": "code",
   "execution_count": null,
   "id": "71e0a2f7",
   "metadata": {},
   "outputs": [],
   "source": [
    "!wget https://github.com/yandex-datasphere/jacademy/blob/main/2024/images/slide.jpg?raw=true -O slide.jpg"
   ]
  },
  {
   "cell_type": "markdown",
   "id": "6978524f-5749-4f1e-9dc7-36d1b28c3e06",
   "metadata": {},
   "source": [
    "### Устанавливаем необходимые библиотеки\n",
    "\n",
    "Для начала надо установить необходимые библиотеки Python, которые понадобятся нам в работе."
   ]
  },
  {
   "cell_type": "code",
   "execution_count": null,
   "id": "93d73292-a2ff-4376-8e14-c8e542281244",
   "metadata": {
    "execution": {
     "iopub.execute_input": "2024-10-29T08:28:50.037739Z",
     "iopub.status.busy": "2024-10-29T08:28:50.036683Z",
     "iopub.status.idle": "2024-10-29T08:29:31.530286Z",
     "shell.execute_reply": "2024-10-29T08:29:31.529337Z",
     "shell.execute_reply.started": "2024-10-29T08:28:50.037682Z"
    },
    "tags": []
   },
   "outputs": [],
   "source": [
    "%pip install dotenv yandex_cloud_ml_sdk yandex-speechkit==1.5.0 telebot==0.0.5 gradio openai shwarsutils"
   ]
  },
  {
   "cell_type": "markdown",
   "id": "9e6cf3e0-41a6-4602-85a5-9625f2292aaf",
   "metadata": {
    "tags": []
   },
   "source": [
    "> **ВНИМАНИЕ!!!** После установки библиотек рекомендуется зайти в пункт меню **Kernel** -> **Restart Kernel**.\n",
    "\n",
    "Теперь получаем секретные ключи для работы с облаком из ранее скачанного файла:"
   ]
  },
  {
   "cell_type": "code",
   "execution_count": null,
   "id": "b9552dd9",
   "metadata": {},
   "outputs": [],
   "source": [
    "from dotenv import load_dotenv\n",
    "import os\n",
    "load_dotenv()\n",
    "\n",
    "folder_id  = os.environ['folder_id']\n",
    "api_key = os.environ['api_key']"
   ]
  },
  {
   "cell_type": "markdown",
   "id": "ffc0494c",
   "metadata": {},
   "source": [
    "\n",
    "### Использование больших языковых моделей\n",
    "\n",
    "Большие языковые модели позволяют вам совершать различные манипуляции с текстом. Основное, что может модель - это отвечать на ваши вопросы. Соответственно, формулируя вопросы по-разному, вы можете попросить модель придумать что-то, перевести текст, перефразировать его в более короткой или более вежливой форме, и многое другое.\n",
    "\n",
    "Для работы с моделью создадим объект `gpt`:"
   ]
  },
  {
   "cell_type": "code",
   "execution_count": null,
   "id": "807770b2-bf74-4c3e-93aa-1a23045fe30b",
   "metadata": {
    "execution": {
     "iopub.execute_input": "2024-10-29T08:33:39.263433Z",
     "iopub.status.busy": "2024-10-29T08:33:39.262054Z",
     "iopub.status.idle": "2024-10-29T08:33:43.759533Z",
     "shell.execute_reply": "2024-10-29T08:33:43.758667Z",
     "shell.execute_reply.started": "2024-10-29T08:33:39.263366Z"
    },
    "tags": []
   },
   "outputs": [],
   "source": [
    "from openai import OpenAI\n",
    "from IPython.display import Markdown, display\n",
    "\n",
    "# Выбираем модель, которую хотим использовать\n",
    "#model = f\"gpt://{folder_id}/yandexgpt/rc\"\n",
    "#model = f\"gpt://{folder_id}/gemma-3-27b-it/latest\"\n",
    "#model = f\"gpt://{folder_id}/gpt-oss-120b/latest\"\n",
    "model = f\"gpt://{folder_id}/qwen3-235b-a22b-fp8/latest\"\n",
    "\n",
    "client = OpenAI(\n",
    "    base_url=\"https://rest-assistant.api.cloud.yandex.net/v1\",\n",
    "    api_key=api_key,\n",
    "    project=folder_id\n",
    ")\n",
    "\n",
    "def printx(string):\n",
    "    display(Markdown(string))\n",
    "\n",
    "def gpt(x, model=model):\n",
    "    res = client.responses.create(\n",
    "        model = model,\n",
    "        input = x)\n",
    "    return res.output_text\n",
    "\n",
    "printx(gpt('Привет! Придумай 10 новых слов для приветствия.'))"
   ]
  },
  {
   "cell_type": "markdown",
   "id": "f2b0af19-728b-4d74-b768-8d47c621192f",
   "metadata": {},
   "source": [
    "Используем модель для преобразования текста в вежливую подробную форму:"
   ]
  },
  {
   "cell_type": "code",
   "execution_count": null,
   "id": "6d01598c-6787-4ae9-82fd-018452be2f95",
   "metadata": {
    "execution": {
     "iopub.execute_input": "2024-10-29T08:36:54.686799Z",
     "iopub.status.busy": "2024-10-29T08:36:54.685542Z",
     "iopub.status.idle": "2024-10-29T08:37:00.152419Z",
     "shell.execute_reply": "2024-10-29T08:37:00.151661Z",
     "shell.execute_reply.started": "2024-10-29T08:36:54.686757Z"
    },
    "tags": []
   },
   "outputs": [],
   "source": [
    "texts = [\n",
    "    \"Мне было лень делать домашку\",\n",
    "    \"Я опоздал, потому что проспал\"\n",
    "]\n",
    "\n",
    "prompt = \"\"\"Пожалуйста, перепиши текст ниже в тройных обратных кавычках в подробной вежливой \n",
    "форме, длиною в несколько предложений, не короче 2000 символов. Вот текст:```{}```\"\"\"\n",
    "\n",
    "for x in texts:\n",
    "    res = gpt(prompt.format(x))\n",
    "    printx(f\"**{x}**\\n{res}\\n\")"
   ]
  },
  {
   "cell_type": "markdown",
   "id": "df36d7fe-4310-40d3-b8e8-c61f00530b43",
   "metadata": {},
   "source": [
    "Можем попросить модель сделать что-то более сложное, например, оценить ответ школьника на тесте:"
   ]
  },
  {
   "cell_type": "code",
   "execution_count": null,
   "id": "fd451a4e-b546-45be-a956-c58fbefa62f4",
   "metadata": {
    "execution": {
     "iopub.execute_input": "2024-10-29T08:39:33.738877Z",
     "iopub.status.busy": "2024-10-29T08:39:33.737606Z",
     "iopub.status.idle": "2024-10-29T08:39:36.814749Z",
     "shell.execute_reply": "2024-10-29T08:39:36.813857Z",
     "shell.execute_reply.started": "2024-10-29T08:39:33.738829Z"
    },
    "tags": []
   },
   "outputs": [],
   "source": [
    "texts = [\n",
    "    \"Млекопитающие — это типа такие животные, у которых есть шерсть и они рожают детёнышей. Ну и кормят их молоком, потому что у них есть молочные железы. Вроде всё.\",\n",
    "    \"Млекопитающие — это класс позвоночных животных, характеризующийся наличием молочных желез, которые позволяют самкам кормить потомство. Большинство млекопитающих также обладают шерстью или волосами, теплокровностью и сложной системой дыхания. Они рождают живых детёнышей (за исключением яйцекладущих, таких как утконос и ехидна) и имеют высокоразвитую нервную систему, что обеспечивает сложное поведение и способность к обучению.\"\n",
    "]\n",
    "\n",
    "prompt = \"\"\"\n",
    "Мне нужно проверить ответ школьника на тесте по биологии на вопрос \"млекопитающие\". Тебе нужно оценить \n",
    "ответ ниже в тройных обратных кавычках по трем параметрам: полнота ответа (complete), \n",
    "стройность и стиль изложения (style) и соответствие теме (topic). Также выстави общую среднюю оценку за ответ (grade). Все\n",
    "оценки выставляй по шкале от 1 до 5, возможно, с дробном виде.\n",
    "Прочитай текст в сообщении ниже и верни ответ в формате JSON.\n",
    "Верни только JSON, не нужно объяснений или другого текста.\n",
    "Ответ школьника:\n",
    "```{}```\n",
    "\"\"\"\n",
    "\n",
    "for x in texts:\n",
    "    res = gpt(prompt.format(x)).replace('```','')\n",
    "    printx(f\"**{x}**\\n<pre>{res}</pre>\")"
   ]
  },
  {
   "cell_type": "markdown",
   "id": "a1da9a32-c8ed-42b4-a1d1-8376edecd190",
   "metadata": {},
   "source": [
    "Использованный тут формат JSON позволяет легко преобразовать ответ из текста в данные Python:"
   ]
  },
  {
   "cell_type": "code",
   "execution_count": null,
   "id": "91a2d381-1a07-45e9-a38e-f847f6dde684",
   "metadata": {
    "execution": {
     "iopub.execute_input": "2024-10-29T08:41:06.641463Z",
     "iopub.status.busy": "2024-10-29T08:41:06.640634Z",
     "iopub.status.idle": "2024-10-29T08:41:09.319500Z",
     "shell.execute_reply": "2024-10-29T08:41:09.318353Z",
     "shell.execute_reply.started": "2024-10-29T08:41:06.641421Z"
    },
    "tags": []
   },
   "outputs": [],
   "source": [
    "import json\n",
    "import pandas as pd\n",
    "\n",
    "res = []\n",
    "for x in texts:\n",
    "    y = gpt(prompt.format(x))\n",
    "    y = json.loads(y.replace('```',''))\n",
    "    print(y)\n",
    "    y['answer'] = x\n",
    "    res.append(y)\n",
    "    \n",
    "df = pd.DataFrame(res)\n",
    "df\n"
   ]
  },
  {
   "cell_type": "markdown",
   "id": "9585cd77-1a25-4a5c-8deb-59077098883b",
   "metadata": {},
   "source": [
    "### YandexART\n",
    "\n",
    "YandexART - это сеть для рисования картинок по текстовому запросу:"
   ]
  },
  {
   "cell_type": "code",
   "execution_count": null,
   "id": "a25ed891-6fac-47e8-b9f5-26993223515e",
   "metadata": {
    "execution": {
     "iopub.execute_input": "2024-10-29T08:49:29.877662Z",
     "iopub.status.busy": "2024-10-29T08:49:29.876471Z",
     "iopub.status.idle": "2024-10-29T08:49:30.445087Z",
     "shell.execute_reply": "2024-10-29T08:49:30.444285Z",
     "shell.execute_reply.started": "2024-10-29T08:49:29.877615Z"
    },
    "tags": []
   },
   "outputs": [],
   "source": [
    "import io\n",
    "from PIL import Image\n",
    "from yandex_cloud_ml_sdk import YCloudML\n",
    "\n",
    "sdk = YCloudML(folder_id=folder_id, auth=api_key)\n",
    "yart_model = sdk.models.image_generation('yandex-art')\n",
    "\n",
    "def generate(prompt):\n",
    "    res = yart_model.run_deferred(prompt)\n",
    "    res = res.wait()\n",
    "    return Image.open(io.BytesIO(res.image_bytes))\n",
    "\n",
    "generate(\"Сферический конь в вакууме\")"
   ]
  },
  {
   "cell_type": "markdown",
   "id": "5af586e9",
   "metadata": {},
   "source": [
    "Используем возможности программирования, чтобы нарисовать сразу много изображений по алгоритму:"
   ]
  },
  {
   "cell_type": "code",
   "execution_count": null,
   "id": "5eb9daf4",
   "metadata": {},
   "outputs": [],
   "source": [
    "from shwars.utils import display_images\n",
    "from tqdm.auto import tqdm\n",
    "\n",
    "res = []\n",
    "for c in tqdm([\"красным\",\"оранжевым\",\"жёлтым\",\"зелёным\",\"голубым\",\"синим\",\"фиолетовым\"]):\n",
    "    res.append(generate(f\"Портрет девушки с {c} цветом волос, с интересом смотрящей в камеру\"))"
   ]
  },
  {
   "cell_type": "code",
   "execution_count": null,
   "id": "fc4596d7",
   "metadata": {},
   "outputs": [],
   "source": [
    "display_images(res)"
   ]
  },
  {
   "cell_type": "markdown",
   "id": "426d6d2f-4b46-44d7-bdad-b729e3117412",
   "metadata": {},
   "source": [
    "### Другие сервисы Yandex Cloud\n",
    "\n",
    "Для работы с другими сервисами Yandex Cloud надо использовать специальные протоколы общения - REST. Ниже пара функций, которые помогут нам в дальнейшем вызывать разные функции в облаке. Не переживайте, если вы совсем не понимаете, что тут написано."
   ]
  },
  {
   "cell_type": "code",
   "execution_count": null,
   "id": "3aa07c14-9035-46cd-8803-ebeafc31e522",
   "metadata": {
    "execution": {
     "iopub.execute_input": "2024-10-29T08:47:31.273175Z",
     "iopub.status.busy": "2024-10-29T08:47:31.272185Z",
     "iopub.status.idle": "2024-10-29T08:47:31.293761Z",
     "shell.execute_reply": "2024-10-29T08:47:31.292846Z",
     "shell.execute_reply.started": "2024-10-29T08:47:31.273130Z"
    },
    "tags": []
   },
   "outputs": [],
   "source": [
    "import requests\n",
    "import os\n",
    "\n",
    "def call_api(url, data):\n",
    "    headers = { \"Authorization\" : f\"Api-Key {api_key}\" }\n",
    "    return requests.post(url, json=data, headers=headers).json()\n",
    "\n",
    "def call_api_get(url, data):\n",
    "    headers = { \"Authorization\" : f\"Api-Key {api_key}\" }\n",
    "    return requests.get(url, headers=headers).json()"
   ]
  },
  {
   "cell_type": "markdown",
   "id": "9e20b29d-1e04-42e5-af7f-908cc0a4cc4c",
   "metadata": {},
   "source": [
    "### Распознаём текст на картинке\n",
    "\n",
    "Для распознавания текста на картике служит сервис Yandex Vision OCR. Рассмотрим следующую картинку:"
   ]
  },
  {
   "cell_type": "code",
   "execution_count": null,
   "id": "820958c6-4545-44aa-9b8e-bbe8477e6977",
   "metadata": {
    "execution": {
     "iopub.execute_input": "2024-10-29T08:56:05.412368Z",
     "iopub.status.busy": "2024-10-29T08:56:05.411344Z",
     "iopub.status.idle": "2024-10-29T08:56:05.472055Z",
     "shell.execute_reply": "2024-10-29T08:56:05.471081Z",
     "shell.execute_reply.started": "2024-10-29T08:56:05.412328Z"
    },
    "tags": []
   },
   "outputs": [],
   "source": [
    "from PIL import Image\n",
    "\n",
    "img = Image.open('slide.jpg')\n",
    "img"
   ]
  },
  {
   "cell_type": "markdown",
   "id": "08165dc9-3740-4c2d-97d5-04c7ccbb9990",
   "metadata": {},
   "source": [
    "Здесь для работы с картинками мы используем специальную библиотеку Python - PIL. Объект `Image` представляет собой картинку, которую можно считывать и записывать из файла, показывать и т.д.\n",
    "\n",
    "Функция `ocr` ниже берёт такую картинку и возвращает результат распознавания текстовых объектов на ней:"
   ]
  },
  {
   "cell_type": "code",
   "execution_count": null,
   "id": "177d0fcb-32a3-46be-9af7-d2898ce0264d",
   "metadata": {
    "execution": {
     "iopub.execute_input": "2024-10-29T08:56:31.888231Z",
     "iopub.status.busy": "2024-10-29T08:56:31.886616Z",
     "iopub.status.idle": "2024-10-29T08:56:32.128297Z",
     "shell.execute_reply": "2024-10-29T08:56:32.127433Z",
     "shell.execute_reply.started": "2024-10-29T08:56:31.888182Z"
    },
    "tags": []
   },
   "outputs": [],
   "source": [
    "from io import BytesIO\n",
    "import base64\n",
    "\n",
    "def ocr(img):\n",
    "    buffer = BytesIO()\n",
    "    img.save(buffer,format=\"JPEG\")\n",
    "    myimage = buffer.getvalue()\n",
    "\n",
    "    j = {\n",
    "      \"mimeType\": \"JPEG\",\n",
    "      \"languageCodes\": [\"*\"],\n",
    "      \"model\": \"page\",\n",
    "      \"content\": base64.b64encode(myimage).decode('utf-8')\n",
    "    }\n",
    "    res = call_api(\"https://ocr.api.cloud.yandex.net/ocr/v1/recognizeText\",j)\n",
    "    return res\n",
    "\n",
    "ocr(img)"
   ]
  },
  {
   "cell_type": "markdown",
   "id": "b0baf781-904d-48d1-9e48-141233277fce",
   "metadata": {},
   "source": [
    "Чтобы получить только текст, используем такой вариант:"
   ]
  },
  {
   "cell_type": "code",
   "execution_count": null,
   "id": "f7236c2e-595d-4ca1-914b-4b8d4b07d1dc",
   "metadata": {
    "execution": {
     "iopub.execute_input": "2024-10-29T08:57:36.106139Z",
     "iopub.status.busy": "2024-10-29T08:57:36.105031Z",
     "iopub.status.idle": "2024-10-29T08:57:36.345329Z",
     "shell.execute_reply": "2024-10-29T08:57:36.344405Z",
     "shell.execute_reply.started": "2024-10-29T08:57:36.106097Z"
    },
    "tags": []
   },
   "outputs": [],
   "source": [
    "def ocr_text(img):\n",
    "    res = ocr(img)\n",
    "    return res['result']['textAnnotation']['fullText']\n",
    "\n",
    "txt = ocr_text(img)\n",
    "print(txt)"
   ]
  },
  {
   "cell_type": "markdown",
   "id": "e5c7b223-56cf-4e20-a1f6-c87c397c4042",
   "metadata": {},
   "source": [
    "Теперь этот текст можно подать на вход gpt-модели, чтобы получить более красивый ответ, отформатированный в формате Markdown:"
   ]
  },
  {
   "cell_type": "code",
   "execution_count": null,
   "id": "b577aa2b-845b-4116-9a52-f5d9125efe28",
   "metadata": {
    "execution": {
     "iopub.execute_input": "2024-10-29T08:59:17.792611Z",
     "iopub.status.busy": "2024-10-29T08:59:17.791246Z",
     "iopub.status.idle": "2024-10-29T08:59:18.928024Z",
     "shell.execute_reply": "2024-10-29T08:59:18.927041Z",
     "shell.execute_reply.started": "2024-10-29T08:59:17.792567Z"
    },
    "tags": []
   },
   "outputs": [],
   "source": [
    "prompt = \"\"\"Ты - научный редактор. Тебе на вход подаётся текст в тройных обратных кавычках, распознанный \n",
    "со слайдов презентации. Пожалуйста, приведи этот текст в аккуратный вид и представь его в формате Markdown.\n",
    "Текст: ```{}```\n",
    "\"\"\"\n",
    "\n",
    "res = gpt(prompt.format(txt))\n",
    "print(res)"
   ]
  },
  {
   "cell_type": "markdown",
   "id": "aba42acd-a58f-4755-872d-8c6a2b3452ba",
   "metadata": {},
   "source": [
    "### Синтез речи\n",
    "\n",
    "Для синтеза речи будем использовать специальную библиотеку *Yandex SpeechKit*. Мы опишем функцию, которой можно передать на вход текст, а на выходе получить речь:"
   ]
  },
  {
   "cell_type": "code",
   "execution_count": null,
   "id": "4e6d2b89-4e9e-4915-b737-5e5dc11a1a69",
   "metadata": {
    "execution": {
     "iopub.execute_input": "2024-10-29T09:00:27.264192Z",
     "iopub.status.busy": "2024-10-29T09:00:27.262831Z",
     "iopub.status.idle": "2024-10-29T09:00:49.099987Z",
     "shell.execute_reply": "2024-10-29T09:00:49.099033Z",
     "shell.execute_reply.started": "2024-10-29T09:00:27.264141Z"
    },
    "tags": []
   },
   "outputs": [],
   "source": [
    "from speechkit import model_repository, configure_credentials, creds\n",
    "\n",
    "# Аутентификация через API-ключ.\n",
    "configure_credentials(\n",
    "   yandex_credentials=creds.YandexCredentials(\n",
    "      api_key=api_key\n",
    "   )\n",
    ")\n",
    "\n",
    "def synthesize(text,voice='jane'):\n",
    "   model = model_repository.synthesis_model()\n",
    "\n",
    "   # Задайте настройки синтеза.\n",
    "   model.voice = voice\n",
    "\n",
    "   # Синтез речи и создание аудио с результатом.\n",
    "   result = model.synthesize(text, raw_format=False)\n",
    "   return result\n",
    "\n",
    "res = synthesize('Привет, как ты?')\n",
    "res"
   ]
  },
  {
   "cell_type": "markdown",
   "id": "154e6614-b865-45f8-95a5-cfee2f392aaa",
   "metadata": {},
   "source": [
    "Можем скомбинировать синтез с gpt, и получится синтезатор анекдотов:"
   ]
  },
  {
   "cell_type": "code",
   "execution_count": null,
   "id": "e595525d-bdb8-422c-b7cf-1921a36c8c37",
   "metadata": {
    "execution": {
     "iopub.execute_input": "2024-10-29T09:01:20.463788Z",
     "iopub.status.busy": "2024-10-29T09:01:20.462569Z",
     "iopub.status.idle": "2024-10-29T09:01:41.811360Z",
     "shell.execute_reply": "2024-10-29T09:01:41.810382Z",
     "shell.execute_reply.started": "2024-10-29T09:01:20.463739Z"
    },
    "tags": []
   },
   "outputs": [],
   "source": [
    "res = gpt(\"Расскажи анекдот про Вовочку\")\n",
    "res = synthesize(res)\n",
    "res"
   ]
  },
  {
   "cell_type": "markdown",
   "id": "61f97d7f-3845-49cc-9cc3-5bef0fef849c",
   "metadata": {},
   "source": [
    "С фрагментами речи можно выполнять операцию сложения, чтобы смонтировать целую передачу из анекдотов. Также мы используем разные голоса, чтобы было интереснее слушать."
   ]
  },
  {
   "cell_type": "code",
   "execution_count": null,
   "id": "3ce3cfd1-32d1-4277-85c5-06734d91a74c",
   "metadata": {
    "execution": {
     "iopub.execute_input": "2024-10-29T09:02:03.484585Z",
     "iopub.status.busy": "2024-10-29T09:02:03.483369Z",
     "iopub.status.idle": "2024-10-29T09:04:16.940503Z",
     "shell.execute_reply": "2024-10-29T09:04:16.939698Z",
     "shell.execute_reply.started": "2024-10-29T09:02:03.484545Z"
    },
    "tags": []
   },
   "outputs": [],
   "source": [
    "topics = ['Вовочку','Русского и литовца','Математику']\n",
    "anecdote_radio = None\n",
    "for x in topics:\n",
    "    print(f\"Генерирую анекдот про {x}\")\n",
    "    f = synthesize(f'Анекдот про {x}',voice='julia')\n",
    "    if anecdote_radio:\n",
    "        anecdote_radio +=f\n",
    "    else:\n",
    "        anecdote_radio = f\n",
    "    p = f\"Расскажи анекдот про {x}. На выходе выведи только сам анекдот, без лишнего текста\"\n",
    "    f = synthesize(gpt(p),voice='zahar')\n",
    "    anecdote_radio += f\n",
    "    \n",
    "anecdote_radio"
   ]
  },
  {
   "cell_type": "markdown",
   "id": "279e4134-c123-447d-928a-08ffca672b54",
   "metadata": {},
   "source": [
    "### Распознавание речи\n",
    "\n",
    "SpeechKit может решать обратную задачу - распознавание речи. Для этого опишем функцию `reco`, и передадим туда сгенерированную нами на прошлом шаге \"передачу анекдотов\"."
   ]
  },
  {
   "cell_type": "code",
   "execution_count": null,
   "id": "6131b707-de07-4e0e-bc40-e5616f2af8ab",
   "metadata": {
    "execution": {
     "iopub.execute_input": "2024-10-29T09:11:39.443143Z",
     "iopub.status.busy": "2024-10-29T09:11:39.441877Z",
     "iopub.status.idle": "2024-10-29T09:12:02.447908Z",
     "shell.execute_reply": "2024-10-29T09:12:02.446980Z",
     "shell.execute_reply.started": "2024-10-29T09:11:39.443091Z"
    },
    "tags": []
   },
   "outputs": [],
   "source": [
    "from speechkit.stt import AudioProcessingType\n",
    "\n",
    "def reco(bin):\n",
    "    model = model_repository.recognition_model()\n",
    "    model.model = 'general'\n",
    "    model.language = 'ru-RU'\n",
    "    model.audio_processing_type = AudioProcessingType.Full\n",
    "    result = model.transcribe(bin)\n",
    "    # можно использовать transcribe_file для распознавания файла с речью\n",
    "    return ' '.join(x.normalized_text for x in result)\n",
    "\n",
    "reco(anecdote_radio)"
   ]
  },
  {
   "cell_type": "markdown",
   "id": "7ab06032",
   "metadata": {},
   "source": [
    "## Выводы\n",
    "\n",
    "В облаке Yandex Cloud содержится много сервисов, которые можно легко использовать как строительные блоки для реализации типовых задач: синтез/распознавание голоса, OCR, обращение к языковым моделям и рисования картинок. Но вы не можете влиять на то, как работают эти сервисы."
   ]
  }
 ],
 "metadata": {
  "kernelspec": {
   "display_name": "mas",
   "language": "python",
   "name": "python3"
  },
  "language_info": {
   "codemirror_mode": {
    "name": "ipython",
    "version": 3
   },
   "file_extension": ".py",
   "mimetype": "text/x-python",
   "name": "python",
   "nbconvert_exporter": "python",
   "pygments_lexer": "ipython3",
   "version": "3.12.0"
  }
 },
 "nbformat": 4,
 "nbformat_minor": 5
}

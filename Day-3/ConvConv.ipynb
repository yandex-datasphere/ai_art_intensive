{
 "cells": [
  {
   "cell_type": "markdown",
   "id": "7844ec9d",
   "metadata": {},
   "source": [
    "## Преобразуем телеграм-чат в формат для обучение нейросети в Yandex Cloud\n",
    "\n",
    "Мы задаемся задачей - до-обучить нейросеть на общение в стиле некоторого человека на основе личной телеграм-переписки. Для начала надо экспортировать переписку в формате JSON (файл `result.json`):"
   ]
  },
  {
   "cell_type": "code",
   "execution_count": 1,
   "id": "8baffc0f",
   "metadata": {},
   "outputs": [
    {
     "name": "stdout",
     "output_type": "stream",
     "text": [
      "Найдено 31425 сообщений.\n"
     ]
    }
   ],
   "source": [
    "import json\n",
    "\n",
    "with open('result.json',encoding='utf-8') as f:\n",
    "    js = json.load(f)\n",
    "\n",
    "messages = js['messages']\n",
    "\n",
    "print(f\"Найдено {len(messages)} сообщений.\")\n"
   ]
  },
  {
   "cell_type": "markdown",
   "id": "b80f5554",
   "metadata": {},
   "source": [
    "Прочитаем все сообщения в словарь, и заменим сразу имена пользователей на user и assistant в соответствии с тем, кого мы хотим моделировать."
   ]
  },
  {
   "cell_type": "code",
   "execution_count": 22,
   "id": "97e8da6f",
   "metadata": {},
   "outputs": [
    {
     "name": "stdout",
     "output_type": "stream",
     "text": [
      "Отфильтровано 27169 сообщений\n"
     ]
    }
   ],
   "source": [
    "user_user_id = \"user217687255\"\n",
    "assistant_user_id = \"user398283250\"\n",
    "\n",
    "def linearize(x):\n",
    "    if isinstance(x,list):\n",
    "        return ' '.join([t if isinstance(t,str) else t['text'] for t in x])\n",
    "    else:\n",
    "        return x\n",
    "\n",
    "msgs = {}\n",
    "for x in messages:\n",
    "    if x.get('from_id','xx') not in [user_user_id,assistant_user_id]:\n",
    "        continue\n",
    "    if len(x.get('text',''))<1:\n",
    "        continue\n",
    "    msg = {\n",
    "        \"from\" : \"user\" if x['from_id'] == user_user_id else \"assistant\",\n",
    "        \"text\" : linearize(x['text']),\n",
    "        \"timestamp\" : int(x['date_unixtime']),\n",
    "        \"reply_to\" : x.get('reply_to_message_id',None)\n",
    "    }\n",
    "    msgs[x['id']] = msg\n",
    "\n",
    "print(f\"Отфильтровано {len(msgs)} сообщений\")"
   ]
  },
  {
   "cell_type": "markdown",
   "id": "e2ba8d34",
   "metadata": {},
   "source": [
    "Теперь будем выделять все цепочки сообщений (которые получены ответом не какие-то из предыдущих сообщений). Для простоты мы не будем учитывать отдельные сообщения, по которым сложно выстроить цепочку вопрос-ответ."
   ]
  },
  {
   "cell_type": "code",
   "execution_count": null,
   "id": "ba2cb2ee",
   "metadata": {},
   "outputs": [
    {
     "name": "stdout",
     "output_type": "stream",
     "text": [
      "Found 2055 chains\n"
     ]
    }
   ],
   "source": [
    "chains = []\n",
    "processed = set()\n",
    "for id,m in sorted(msgs.items(),key=lambda x : -x[1]['timestamp']):\n",
    "    if id in processed:\n",
    "        continue\n",
    "    if m['reply_to']:\n",
    "        xid,x = id,m\n",
    "        c = [m] # Цепочка сообщений в обратном порядке\n",
    "        lr = x['from']\n",
    "        while x['reply_to']:\n",
    "            processed |= {xid}\n",
    "            xid = x['reply_to']\n",
    "            x = msgs.get(xid,None)\n",
    "            if not x:\n",
    "                break\n",
    "            if lr == x['from']:\n",
    "                c[-1]['text'] = c[-1]['text'] + ' ' + x['text']\n",
    "            else:\n",
    "                c.append(x)\n",
    "                lr = x['from']\n",
    "        # Последнее сообщение в цепочке должно быть от ассистента\n",
    "        if c[0]['from'] == 'user':\n",
    "            c = c[1:]\n",
    "        if len(c)<2:\n",
    "            continue\n",
    "        # Первое сообщение в цепочке должно быть от пользователя\n",
    "        if c[-1]['from'] == 'assistant':\n",
    "            c = c[:-1]\n",
    "        if len(c)>1:\n",
    "            chains.append(c)\n",
    "\n",
    "print(f\"Found {len(chains)} chains\")"
   ]
  },
  {
   "cell_type": "markdown",
   "id": "30bca225",
   "metadata": {},
   "source": [
    "Теперь экспортируем все цепочки в формат JSONL, который может быть использован в облаке для до-обучения моделей."
   ]
  },
  {
   "cell_type": "code",
   "execution_count": 41,
   "id": "24b3622c",
   "metadata": {},
   "outputs": [],
   "source": [
    "with open('train.jsonl','w',encoding='utf-8') as f:\n",
    "    for c in chains:\n",
    "        conv = [ { \"role\" : \"system\", \"text\" : \"Ты - Вика Сошникова\" }]\n",
    "        resp = c[0]['text']\n",
    "        c = c[1:]\n",
    "        for x in c[::-1]:\n",
    "            conv.append({ \"role\" : x['from'], \"text\" : x['text'] })\n",
    "        f.write(json.dumps({ 'request' : conv, 'response' : resp },ensure_ascii=False)+'\\n')\n",
    "    "
   ]
  },
  {
   "cell_type": "markdown",
   "id": "47582da3",
   "metadata": {},
   "source": [
    "Теперь мы можем загрузить этот файл в облако и инициировать до-обучение модели!\n",
    "\n",
    "Посмотрим ещё ради интереса на распределение длины цепочек:"
   ]
  },
  {
   "cell_type": "code",
   "execution_count": 42,
   "id": "453f535f",
   "metadata": {},
   "outputs": [
    {
     "data": {
      "image/png": "[encoded data removed]",
      "text/plain": [
       "<Figure size 640x480 with 1 Axes>"
      ]
     },
     "metadata": {},
     "output_type": "display_data"
    }
   ],
   "source": [
    "import matplotlib.pyplot as plt \n",
    "plt.hist([len(c) for c in chains])\n",
    "plt.show()"
   ]
  },
  {
   "cell_type": "markdown",
   "id": "20e1b086",
   "metadata": {},
   "source": [
    "К сожалению, в основном все цепочки сообщений - длины 2, т.к. банальный вопрос-ответ.\n",
    "\n",
    "Также соберём датасет с фразами только одного пользователя - для до-обучения базовой модели только на ответах."
   ]
  },
  {
   "cell_type": "code",
   "execution_count": 46,
   "id": "da859721",
   "metadata": {},
   "outputs": [],
   "source": [
    "with open('train.txt','w',encoding='utf-8') as f:\n",
    "    for id,m in msgs.items():\n",
    "        if m['from']=='assistant':\n",
    "            f.write(f\"<s>{m['text']}</s>\\n\")"
   ]
  },
  {
   "cell_type": "markdown",
   "id": "c0bf4897",
   "metadata": {},
   "source": []
  }
 ],
 "metadata": {
  "kernelspec": {
   "display_name": "mas",
   "language": "python",
   "name": "python3"
  },
  "language_info": {
   "codemirror_mode": {
    "name": "ipython",
    "version": 3
   },
   "file_extension": ".py",
   "mimetype": "text/x-python",
   "name": "python",
   "nbconvert_exporter": "python",
   "pygments_lexer": "ipython3",
   "version": "3.12.0"
  }
 },
 "nbformat": 4,
 "nbformat_minor": 5
}
